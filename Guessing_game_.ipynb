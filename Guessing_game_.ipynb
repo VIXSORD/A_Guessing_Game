{
  "nbformat": 4,
  "nbformat_minor": 0,
  "metadata": {
    "colab": {
      "name": "Guessing game..",
      "provenance": [],
      "collapsed_sections": []
    },
    "kernelspec": {
      "name": "python3",
      "display_name": "Python 3"
    },
    "accelerator": "GPU"
  },
  "cells": [
    {
      "cell_type": "code",
      "metadata": {
        "id": "uoXjFo7bsF-Y",
        "colab_type": "code",
        "colab": {
          "base_uri": "https://localhost:8080/",
          "height": 85
        },
        "outputId": "4200ae74-2991-4280-84b2-1f85958ce212"
      },
      "source": [
        "fav_country = \"Japan\"\n",
        "guess = \"\"\n",
        "guess_count = 0\n",
        "guess_limit = 3\n",
        "out_of_guess = False\n",
        "\n",
        "while guess != fav_country and not (out_of_guess):\n",
        "    if guess_count < guess_limit:\n",
        "        guess = input(\"Enter your fav country: \")\n",
        "        guess_count += 1\n",
        "    else:\n",
        "        out_of_guess = True\n",
        "if out_of_guess:\n",
        "    print(\"You Lose\")\n",
        "else:\n",
        "    print(\"You win\")\n",
        "\n",
        "  \n"
      ],
      "execution_count": null,
      "outputs": [
        {
          "output_type": "stream",
          "text": [
            "Enter your fav country: Country\n",
            "Enter your fav country: Sola\n",
            "Enter your fav country: Japan\n",
            "You win\n"
          ],
          "name": "stdout"
        }
      ]
    }
  ]
}